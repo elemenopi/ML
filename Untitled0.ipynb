{
  "nbformat": 4,
  "nbformat_minor": 0,
  "metadata": {
    "colab": {
      "provenance": [],
      "authorship_tag": "ABX9TyOBJfnrunnWr50ntdiE1zms",
      "include_colab_link": true
    },
    "kernelspec": {
      "name": "python3",
      "display_name": "Python 3"
    },
    "language_info": {
      "name": "python"
    }
  },
  "cells": [
    {
      "cell_type": "markdown",
      "metadata": {
        "id": "view-in-github",
        "colab_type": "text"
      },
      "source": [
        "<a href=\"https://colab.research.google.com/github/elemenopi/ML/blob/main/Untitled0.ipynb\" target=\"_parent\"><img src=\"https://colab.research.google.com/assets/colab-badge.svg\" alt=\"Open In Colab\"/></a>"
      ]
    },
    {
      "cell_type": "code",
      "source": [
        "import numpy\n",
        "import torch\n",
        "from PIL import Image\n",
        "import torch.nn as nn\n",
        "import torch.nn.functional as F\n",
        "import torchvision\n",
        "import torchvision.transforms as transforms\n",
        "import matplotlib.pyplot as plt\n",
        "import numpy as np\n",
        "\n",
        "class neuralNet(nn.Module):\n",
        "    def __init__(self,no_of_layers,input_dim,neurons_per_layer,dropout):\n",
        "        super(neuralNet,self).__init__()\n",
        "        self.no_of_layers =no_of_layers\n",
        "        self.layers = nn.ModuleList()\n",
        "        self.layers.add_module(f'linear{0}',nn.Linear(input_dim, neurons_per_layer[0]))\n",
        "        self.layers.add_module(f'relu{0}',nn.ReLU())\n",
        "        self.layers.add_module(f'dropout{0}',nn.Dropout(dropout))\n",
        "\n",
        "        for i in range(no_of_layers):  # Exclude the last layer in the loop\n",
        "          self.layers.add_module(f'linear{i+1}',nn.Linear(neurons_per_layer[i], neurons_per_layer[i + 1]))\n",
        "          self.layers.add_module(f'relu{i+1}',nn.ReLU())\n",
        "          self.layers.add_module(f'dropout{i+1}',nn.Dropout(dropout))\n",
        "\n",
        "\n",
        "        #self.l1 = nn.Linear(28*28,128)\n",
        "        #self.relu = nn.ReLU()\n",
        "        #self.l2 = nn.Linear(128,64)\n",
        "        #self.l3 = nn.Linear(64,10)\n",
        "\n",
        "    def forward(self,x):\n",
        "        for layer in self.layers:\n",
        "          tensor = layer(x)\n",
        "          x = tensor\n",
        "        return x\n",
        "\n",
        "        #x = self.relu(self.l1(x))\n",
        "        #x = self.relu(self.l2(x))\n",
        "        #x = self.l3(x)\n",
        "        return x\n",
        "\n",
        "\n",
        "def loadDataset(train_data,test_data):\n",
        "  #select datasamples\n",
        "  pass\n",
        "def saveNetwork(model,path):\n",
        "  torch.save(model.state_dict(),path)\n",
        "def getSavedNetwork(path):\n",
        "  loaded_model = init_network(2,784,[100,50,10],0)\n",
        "  loaded_model.load_state_dict(torch.load(path))\n",
        "  return loaded_model\n",
        "def init_network(no_of_layers,input_dim,neurons_per_layer,drouput):\n",
        "  model = neuralNet(no_of_layers,input_dim,neurons_per_layer,drouput)\n",
        "  return model\n",
        "\n",
        "def train(net,train_set_x,train_set_y,valid_set_x,valid_set_y,learning_rate,training_epochs,loss_func,optimizer):\n",
        "  pass\n"
      ],
      "metadata": {
        "id": "E_kXbx88VAvs"
      },
      "execution_count": null,
      "outputs": []
    },
    {
      "cell_type": "code",
      "execution_count": null,
      "metadata": {
        "id": "1x4VCHnaAAUs"
      },
      "outputs": [],
      "source": [
        "\n",
        "\n",
        "num_epochs = 4\n",
        "batch_size = 10\n",
        "learning_rate = 0.002\n",
        "\n",
        "transform = transforms.Compose([\n",
        "    transforms.ToTensor()\n",
        "])\n",
        "train_dataset = torchvision.datasets.MNIST(root = './data',train = True,download=True,transform=transform)\n",
        "test_dataset = torchvision.datasets.MNIST(root = './data',train = False, download = True,transform = transform)\n",
        "train_loader = torch.utils.data.DataLoader(train_dataset,batch_size = batch_size,shuffle = True)\n",
        "test_loader = torch.utils.data.DataLoader(test_dataset,batch_size = batch_size,shuffle = False)\n",
        "classes = ('0','1','2','3','4','5','6','7','8','9')"
      ]
    },
    {
      "cell_type": "code",
      "source": [
        "\n"
      ],
      "metadata": {
        "id": "gSWPx-DzAC9l"
      },
      "execution_count": null,
      "outputs": []
    },
    {
      "cell_type": "code",
      "source": [
        "for i , (images,labels) in enumerate(train_loader):\n",
        "  print(images[5].shape)\n",
        "  images = images.reshape(-1,28*28)\n",
        "  #rint(images[5].shape)\n",
        "  #print(images[5].uniform_(0,1))\n",
        "  break\n",
        "x = torch.Tensor([[1,2,3],[2,3,4],[1,2,2]])\n",
        "print(torch.diag(x))"
      ],
      "metadata": {
        "colab": {
          "base_uri": "https://localhost:8080/"
        },
        "id": "vCvpMA07kglN",
        "outputId": "6d32ef09-5cef-4173-b84f-ba4485dd2143"
      },
      "execution_count": null,
      "outputs": [
        {
          "output_type": "stream",
          "name": "stdout",
          "text": [
            "torch.Size([1, 28, 28])\n",
            "tensor([1., 3., 2.])\n"
          ]
        }
      ]
    },
    {
      "cell_type": "code",
      "source": [
        "for i , (images,labels) in enumerate(train_loader):\n",
        "  images = images.reshape(-1,28*28)\n",
        "  print(images[5].shape)\n",
        "  break\n",
        "model = init_network(2,784,[100,50,10],0.2)\n",
        "criterion = nn.CrossEntropyLoss()\n",
        "optimizer = torch.optim.Adam(model.parameters(),lr =learning_rate)\n",
        "#\n",
        "for epoch in range(num_epochs):\n",
        "    for i ,(images,labels) in enumerate(train_loader):\n",
        "        images = images.reshape(-1,28*28)\n",
        "        outputs = model(images)\n",
        "        loss = criterion(outputs,labels)\n",
        "        optimizer.zero_grad()\n",
        "        loss.backward()\n",
        "        optimizer.step()\n",
        "        if(i+1) %100 == 0:\n",
        "          print(f\"epoch {epoch +1}/{num_epochs},step {i+1}/{len(train_loader)}\")\n"
      ],
      "metadata": {
        "colab": {
          "base_uri": "https://localhost:8080/"
        },
        "id": "tz6x4NYXAJj8",
        "outputId": "21ce9e5e-6059-41cf-fd5d-29eb39f1cbd7"
      },
      "execution_count": null,
      "outputs": [
        {
          "output_type": "stream",
          "name": "stdout",
          "text": [
            "torch.Size([784])\n",
            "epoch 1/4,step 100/6000\n",
            "epoch 1/4,step 200/6000\n",
            "epoch 1/4,step 300/6000\n",
            "epoch 1/4,step 400/6000\n",
            "epoch 1/4,step 500/6000\n",
            "epoch 1/4,step 600/6000\n",
            "epoch 1/4,step 700/6000\n",
            "epoch 1/4,step 800/6000\n",
            "epoch 1/4,step 900/6000\n",
            "epoch 1/4,step 1000/6000\n",
            "epoch 1/4,step 1100/6000\n",
            "epoch 1/4,step 1200/6000\n",
            "epoch 1/4,step 1300/6000\n",
            "epoch 1/4,step 1400/6000\n",
            "epoch 1/4,step 1500/6000\n",
            "epoch 1/4,step 1600/6000\n",
            "epoch 1/4,step 1700/6000\n",
            "epoch 1/4,step 1800/6000\n",
            "epoch 1/4,step 1900/6000\n",
            "epoch 1/4,step 2000/6000\n",
            "epoch 1/4,step 2100/6000\n",
            "epoch 1/4,step 2200/6000\n",
            "epoch 1/4,step 2300/6000\n",
            "epoch 1/4,step 2400/6000\n",
            "epoch 1/4,step 2500/6000\n",
            "epoch 1/4,step 2600/6000\n",
            "epoch 1/4,step 2700/6000\n",
            "epoch 1/4,step 2800/6000\n",
            "epoch 1/4,step 2900/6000\n",
            "epoch 1/4,step 3000/6000\n",
            "epoch 1/4,step 3100/6000\n",
            "epoch 1/4,step 3200/6000\n",
            "epoch 1/4,step 3300/6000\n",
            "epoch 1/4,step 3400/6000\n",
            "epoch 1/4,step 3500/6000\n",
            "epoch 1/4,step 3600/6000\n",
            "epoch 1/4,step 3700/6000\n",
            "epoch 1/4,step 3800/6000\n",
            "epoch 1/4,step 3900/6000\n",
            "epoch 1/4,step 4000/6000\n",
            "epoch 1/4,step 4100/6000\n",
            "epoch 1/4,step 4200/6000\n",
            "epoch 1/4,step 4300/6000\n",
            "epoch 1/4,step 4400/6000\n",
            "epoch 1/4,step 4500/6000\n",
            "epoch 1/4,step 4600/6000\n",
            "epoch 1/4,step 4700/6000\n",
            "epoch 1/4,step 4800/6000\n",
            "epoch 1/4,step 4900/6000\n",
            "epoch 1/4,step 5000/6000\n",
            "epoch 1/4,step 5100/6000\n",
            "epoch 1/4,step 5200/6000\n",
            "epoch 1/4,step 5300/6000\n",
            "epoch 1/4,step 5400/6000\n",
            "epoch 1/4,step 5500/6000\n",
            "epoch 1/4,step 5600/6000\n",
            "epoch 1/4,step 5700/6000\n",
            "epoch 1/4,step 5800/6000\n",
            "epoch 1/4,step 5900/6000\n",
            "epoch 1/4,step 6000/6000\n",
            "epoch 2/4,step 100/6000\n",
            "epoch 2/4,step 200/6000\n",
            "epoch 2/4,step 300/6000\n",
            "epoch 2/4,step 400/6000\n",
            "epoch 2/4,step 500/6000\n",
            "epoch 2/4,step 600/6000\n",
            "epoch 2/4,step 700/6000\n",
            "epoch 2/4,step 800/6000\n",
            "epoch 2/4,step 900/6000\n",
            "epoch 2/4,step 1000/6000\n",
            "epoch 2/4,step 1100/6000\n",
            "epoch 2/4,step 1200/6000\n",
            "epoch 2/4,step 1300/6000\n",
            "epoch 2/4,step 1400/6000\n",
            "epoch 2/4,step 1500/6000\n",
            "epoch 2/4,step 1600/6000\n",
            "epoch 2/4,step 1700/6000\n",
            "epoch 2/4,step 1800/6000\n",
            "epoch 2/4,step 1900/6000\n",
            "epoch 2/4,step 2000/6000\n",
            "epoch 2/4,step 2100/6000\n",
            "epoch 2/4,step 2200/6000\n",
            "epoch 2/4,step 2300/6000\n",
            "epoch 2/4,step 2400/6000\n",
            "epoch 2/4,step 2500/6000\n",
            "epoch 2/4,step 2600/6000\n",
            "epoch 2/4,step 2700/6000\n",
            "epoch 2/4,step 2800/6000\n",
            "epoch 2/4,step 2900/6000\n",
            "epoch 2/4,step 3000/6000\n",
            "epoch 2/4,step 3100/6000\n",
            "epoch 2/4,step 3200/6000\n",
            "epoch 2/4,step 3300/6000\n",
            "epoch 2/4,step 3400/6000\n",
            "epoch 2/4,step 3500/6000\n",
            "epoch 2/4,step 3600/6000\n",
            "epoch 2/4,step 3700/6000\n",
            "epoch 2/4,step 3800/6000\n",
            "epoch 2/4,step 3900/6000\n",
            "epoch 2/4,step 4000/6000\n",
            "epoch 2/4,step 4100/6000\n",
            "epoch 2/4,step 4200/6000\n",
            "epoch 2/4,step 4300/6000\n",
            "epoch 2/4,step 4400/6000\n",
            "epoch 2/4,step 4500/6000\n",
            "epoch 2/4,step 4600/6000\n",
            "epoch 2/4,step 4700/6000\n",
            "epoch 2/4,step 4800/6000\n",
            "epoch 2/4,step 4900/6000\n",
            "epoch 2/4,step 5000/6000\n",
            "epoch 2/4,step 5100/6000\n",
            "epoch 2/4,step 5200/6000\n",
            "epoch 2/4,step 5300/6000\n",
            "epoch 2/4,step 5400/6000\n",
            "epoch 2/4,step 5500/6000\n",
            "epoch 2/4,step 5600/6000\n",
            "epoch 2/4,step 5700/6000\n",
            "epoch 2/4,step 5800/6000\n",
            "epoch 2/4,step 5900/6000\n",
            "epoch 2/4,step 6000/6000\n",
            "epoch 3/4,step 100/6000\n",
            "epoch 3/4,step 200/6000\n",
            "epoch 3/4,step 300/6000\n",
            "epoch 3/4,step 400/6000\n",
            "epoch 3/4,step 500/6000\n",
            "epoch 3/4,step 600/6000\n",
            "epoch 3/4,step 700/6000\n",
            "epoch 3/4,step 800/6000\n",
            "epoch 3/4,step 900/6000\n",
            "epoch 3/4,step 1000/6000\n",
            "epoch 3/4,step 1100/6000\n",
            "epoch 3/4,step 1200/6000\n",
            "epoch 3/4,step 1300/6000\n",
            "epoch 3/4,step 1400/6000\n",
            "epoch 3/4,step 1500/6000\n",
            "epoch 3/4,step 1600/6000\n",
            "epoch 3/4,step 1700/6000\n",
            "epoch 3/4,step 1800/6000\n",
            "epoch 3/4,step 1900/6000\n",
            "epoch 3/4,step 2000/6000\n",
            "epoch 3/4,step 2100/6000\n",
            "epoch 3/4,step 2200/6000\n",
            "epoch 3/4,step 2300/6000\n",
            "epoch 3/4,step 2400/6000\n",
            "epoch 3/4,step 2500/6000\n",
            "epoch 3/4,step 2600/6000\n",
            "epoch 3/4,step 2700/6000\n",
            "epoch 3/4,step 2800/6000\n",
            "epoch 3/4,step 2900/6000\n",
            "epoch 3/4,step 3000/6000\n",
            "epoch 3/4,step 3100/6000\n",
            "epoch 3/4,step 3200/6000\n",
            "epoch 3/4,step 3300/6000\n",
            "epoch 3/4,step 3400/6000\n",
            "epoch 3/4,step 3500/6000\n",
            "epoch 3/4,step 3600/6000\n",
            "epoch 3/4,step 3700/6000\n",
            "epoch 3/4,step 3800/6000\n",
            "epoch 3/4,step 3900/6000\n",
            "epoch 3/4,step 4000/6000\n",
            "epoch 3/4,step 4100/6000\n",
            "epoch 3/4,step 4200/6000\n",
            "epoch 3/4,step 4300/6000\n",
            "epoch 3/4,step 4400/6000\n",
            "epoch 3/4,step 4500/6000\n",
            "epoch 3/4,step 4600/6000\n",
            "epoch 3/4,step 4700/6000\n",
            "epoch 3/4,step 4800/6000\n",
            "epoch 3/4,step 4900/6000\n",
            "epoch 3/4,step 5000/6000\n",
            "epoch 3/4,step 5100/6000\n",
            "epoch 3/4,step 5200/6000\n",
            "epoch 3/4,step 5300/6000\n",
            "epoch 3/4,step 5400/6000\n",
            "epoch 3/4,step 5500/6000\n",
            "epoch 3/4,step 5600/6000\n",
            "epoch 3/4,step 5700/6000\n",
            "epoch 3/4,step 5800/6000\n",
            "epoch 3/4,step 5900/6000\n",
            "epoch 3/4,step 6000/6000\n",
            "epoch 4/4,step 100/6000\n",
            "epoch 4/4,step 200/6000\n",
            "epoch 4/4,step 300/6000\n",
            "epoch 4/4,step 400/6000\n",
            "epoch 4/4,step 500/6000\n",
            "epoch 4/4,step 600/6000\n",
            "epoch 4/4,step 700/6000\n",
            "epoch 4/4,step 800/6000\n",
            "epoch 4/4,step 900/6000\n",
            "epoch 4/4,step 1000/6000\n",
            "epoch 4/4,step 1100/6000\n",
            "epoch 4/4,step 1200/6000\n",
            "epoch 4/4,step 1300/6000\n",
            "epoch 4/4,step 1400/6000\n",
            "epoch 4/4,step 1500/6000\n",
            "epoch 4/4,step 1600/6000\n",
            "epoch 4/4,step 1700/6000\n",
            "epoch 4/4,step 1800/6000\n",
            "epoch 4/4,step 1900/6000\n",
            "epoch 4/4,step 2000/6000\n",
            "epoch 4/4,step 2100/6000\n",
            "epoch 4/4,step 2200/6000\n",
            "epoch 4/4,step 2300/6000\n",
            "epoch 4/4,step 2400/6000\n",
            "epoch 4/4,step 2500/6000\n",
            "epoch 4/4,step 2600/6000\n",
            "epoch 4/4,step 2700/6000\n",
            "epoch 4/4,step 2800/6000\n",
            "epoch 4/4,step 2900/6000\n",
            "epoch 4/4,step 3000/6000\n",
            "epoch 4/4,step 3100/6000\n",
            "epoch 4/4,step 3200/6000\n",
            "epoch 4/4,step 3300/6000\n",
            "epoch 4/4,step 3400/6000\n",
            "epoch 4/4,step 3500/6000\n",
            "epoch 4/4,step 3600/6000\n",
            "epoch 4/4,step 3700/6000\n",
            "epoch 4/4,step 3800/6000\n",
            "epoch 4/4,step 3900/6000\n",
            "epoch 4/4,step 4000/6000\n",
            "epoch 4/4,step 4100/6000\n",
            "epoch 4/4,step 4200/6000\n",
            "epoch 4/4,step 4300/6000\n",
            "epoch 4/4,step 4400/6000\n",
            "epoch 4/4,step 4500/6000\n",
            "epoch 4/4,step 4600/6000\n",
            "epoch 4/4,step 4700/6000\n",
            "epoch 4/4,step 4800/6000\n",
            "epoch 4/4,step 4900/6000\n",
            "epoch 4/4,step 5000/6000\n",
            "epoch 4/4,step 5100/6000\n",
            "epoch 4/4,step 5200/6000\n",
            "epoch 4/4,step 5300/6000\n",
            "epoch 4/4,step 5400/6000\n",
            "epoch 4/4,step 5500/6000\n",
            "epoch 4/4,step 5600/6000\n",
            "epoch 4/4,step 5700/6000\n",
            "epoch 4/4,step 5800/6000\n",
            "epoch 4/4,step 5900/6000\n",
            "epoch 4/4,step 6000/6000\n"
          ]
        }
      ]
    },
    {
      "cell_type": "code",
      "source": [],
      "metadata": {
        "id": "z59S14UfWh4H"
      },
      "execution_count": null,
      "outputs": []
    },
    {
      "cell_type": "code",
      "source": [
        "from os import getcwd\n",
        "pwd = getcwd()\n",
        "print(pwd)"
      ],
      "metadata": {
        "colab": {
          "base_uri": "https://localhost:8080/"
        },
        "id": "oFY8ljeQ_3e9",
        "outputId": "e3796a66-0676-4e21-fed1-287bb5ac35d2"
      },
      "execution_count": null,
      "outputs": [
        {
          "output_type": "stream",
          "name": "stdout",
          "text": [
            "/content\n"
          ]
        }
      ]
    },
    {
      "cell_type": "code",
      "source": [
        "saveNetwork(model,\"model.pth\")\n",
        "loaded_model = getSavedNetwork(\"model.pth\")\n",
        "\n"
      ],
      "metadata": {
        "id": "rS5WNQkQ67uR"
      },
      "execution_count": null,
      "outputs": []
    },
    {
      "cell_type": "code",
      "source": [
        "loaded_model.eval()\n",
        "with torch.no_grad():\n",
        "  correct = 0\n",
        "  total = 0\n",
        "  for images,labels in test_loader:\n",
        "    for i in range(6):\n",
        "      total+=1\n",
        "      out = loaded_model(images[i].reshape(-1,28*28))\n",
        "      predicted_label = out.argmax().item()\n",
        "      if predicted_label == labels[i]:correct+=1"
      ],
      "metadata": {
        "id": "XllrmrSoxW8i"
      },
      "execution_count": null,
      "outputs": []
    },
    {
      "cell_type": "code",
      "source": [
        "print(correct)\n",
        "print(total)"
      ],
      "metadata": {
        "colab": {
          "base_uri": "https://localhost:8080/"
        },
        "id": "B6-jQbdZQqq6",
        "outputId": "b75ad0d2-4cda-472d-c8de-08f44299022e"
      },
      "execution_count": null,
      "outputs": [
        {
          "output_type": "stream",
          "name": "stdout",
          "text": [
            "4046\n",
            "6000\n"
          ]
        }
      ]
    }
  ]
}